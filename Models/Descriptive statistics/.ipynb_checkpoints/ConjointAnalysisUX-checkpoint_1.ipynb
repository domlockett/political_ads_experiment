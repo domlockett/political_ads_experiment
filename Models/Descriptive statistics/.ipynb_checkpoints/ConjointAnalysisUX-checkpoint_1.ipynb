{
 "cells": [
  {
   "cell_type": "code",
   "execution_count": 14,
   "metadata": {},
   "outputs": [],
   "source": [
    "import numpy as np\n",
    "import pandas as pd"
   ]
  },
  {
   "cell_type": "code",
   "execution_count": 15,
   "metadata": {},
   "outputs": [
    {
     "ename": "FileNotFoundError",
     "evalue": "[Errno 2] File Tass_conjointdata.csv does not exist: 'Tass_conjointdata.csv'",
     "output_type": "error",
     "traceback": [
      "\u001b[0;31m---------------------------------------------------------------------------\u001b[0m",
      "\u001b[0;31mFileNotFoundError\u001b[0m                         Traceback (most recent call last)",
      "\u001b[0;32m<ipython-input-15-e532de1038e7>\u001b[0m in \u001b[0;36m<module>\u001b[0;34m\u001b[0m\n\u001b[0;32m----> 1\u001b[0;31m \u001b[0mdf\u001b[0m \u001b[0;34m=\u001b[0m \u001b[0mpd\u001b[0m\u001b[0;34m.\u001b[0m\u001b[0mread_csv\u001b[0m\u001b[0;34m(\u001b[0m\u001b[0;34m\"Tass_conjointdata.csv\"\u001b[0m\u001b[0;34m,\u001b[0m \u001b[0mdelimiter\u001b[0m\u001b[0;34m=\u001b[0m\u001b[0;34m','\u001b[0m\u001b[0;34m)\u001b[0m\u001b[0;34m\u001b[0m\u001b[0;34m\u001b[0m\u001b[0m\n\u001b[0m",
      "\u001b[0;32m~/opt/anaconda3/lib/python3.7/site-packages/pandas/io/parsers.py\u001b[0m in \u001b[0;36mparser_f\u001b[0;34m(filepath_or_buffer, sep, delimiter, header, names, index_col, usecols, squeeze, prefix, mangle_dupe_cols, dtype, engine, converters, true_values, false_values, skipinitialspace, skiprows, skipfooter, nrows, na_values, keep_default_na, na_filter, verbose, skip_blank_lines, parse_dates, infer_datetime_format, keep_date_col, date_parser, dayfirst, cache_dates, iterator, chunksize, compression, thousands, decimal, lineterminator, quotechar, quoting, doublequote, escapechar, comment, encoding, dialect, error_bad_lines, warn_bad_lines, delim_whitespace, low_memory, memory_map, float_precision)\u001b[0m\n\u001b[1;32m    674\u001b[0m         )\n\u001b[1;32m    675\u001b[0m \u001b[0;34m\u001b[0m\u001b[0m\n\u001b[0;32m--> 676\u001b[0;31m         \u001b[0;32mreturn\u001b[0m \u001b[0m_read\u001b[0m\u001b[0;34m(\u001b[0m\u001b[0mfilepath_or_buffer\u001b[0m\u001b[0;34m,\u001b[0m \u001b[0mkwds\u001b[0m\u001b[0;34m)\u001b[0m\u001b[0;34m\u001b[0m\u001b[0;34m\u001b[0m\u001b[0m\n\u001b[0m\u001b[1;32m    677\u001b[0m \u001b[0;34m\u001b[0m\u001b[0m\n\u001b[1;32m    678\u001b[0m     \u001b[0mparser_f\u001b[0m\u001b[0;34m.\u001b[0m\u001b[0m__name__\u001b[0m \u001b[0;34m=\u001b[0m \u001b[0mname\u001b[0m\u001b[0;34m\u001b[0m\u001b[0;34m\u001b[0m\u001b[0m\n",
      "\u001b[0;32m~/opt/anaconda3/lib/python3.7/site-packages/pandas/io/parsers.py\u001b[0m in \u001b[0;36m_read\u001b[0;34m(filepath_or_buffer, kwds)\u001b[0m\n\u001b[1;32m    446\u001b[0m \u001b[0;34m\u001b[0m\u001b[0m\n\u001b[1;32m    447\u001b[0m     \u001b[0;31m# Create the parser.\u001b[0m\u001b[0;34m\u001b[0m\u001b[0;34m\u001b[0m\u001b[0;34m\u001b[0m\u001b[0m\n\u001b[0;32m--> 448\u001b[0;31m     \u001b[0mparser\u001b[0m \u001b[0;34m=\u001b[0m \u001b[0mTextFileReader\u001b[0m\u001b[0;34m(\u001b[0m\u001b[0mfp_or_buf\u001b[0m\u001b[0;34m,\u001b[0m \u001b[0;34m**\u001b[0m\u001b[0mkwds\u001b[0m\u001b[0;34m)\u001b[0m\u001b[0;34m\u001b[0m\u001b[0;34m\u001b[0m\u001b[0m\n\u001b[0m\u001b[1;32m    449\u001b[0m \u001b[0;34m\u001b[0m\u001b[0m\n\u001b[1;32m    450\u001b[0m     \u001b[0;32mif\u001b[0m \u001b[0mchunksize\u001b[0m \u001b[0;32mor\u001b[0m \u001b[0miterator\u001b[0m\u001b[0;34m:\u001b[0m\u001b[0;34m\u001b[0m\u001b[0;34m\u001b[0m\u001b[0m\n",
      "\u001b[0;32m~/opt/anaconda3/lib/python3.7/site-packages/pandas/io/parsers.py\u001b[0m in \u001b[0;36m__init__\u001b[0;34m(self, f, engine, **kwds)\u001b[0m\n\u001b[1;32m    878\u001b[0m             \u001b[0mself\u001b[0m\u001b[0;34m.\u001b[0m\u001b[0moptions\u001b[0m\u001b[0;34m[\u001b[0m\u001b[0;34m\"has_index_names\"\u001b[0m\u001b[0;34m]\u001b[0m \u001b[0;34m=\u001b[0m \u001b[0mkwds\u001b[0m\u001b[0;34m[\u001b[0m\u001b[0;34m\"has_index_names\"\u001b[0m\u001b[0;34m]\u001b[0m\u001b[0;34m\u001b[0m\u001b[0;34m\u001b[0m\u001b[0m\n\u001b[1;32m    879\u001b[0m \u001b[0;34m\u001b[0m\u001b[0m\n\u001b[0;32m--> 880\u001b[0;31m         \u001b[0mself\u001b[0m\u001b[0;34m.\u001b[0m\u001b[0m_make_engine\u001b[0m\u001b[0;34m(\u001b[0m\u001b[0mself\u001b[0m\u001b[0;34m.\u001b[0m\u001b[0mengine\u001b[0m\u001b[0;34m)\u001b[0m\u001b[0;34m\u001b[0m\u001b[0;34m\u001b[0m\u001b[0m\n\u001b[0m\u001b[1;32m    881\u001b[0m \u001b[0;34m\u001b[0m\u001b[0m\n\u001b[1;32m    882\u001b[0m     \u001b[0;32mdef\u001b[0m \u001b[0mclose\u001b[0m\u001b[0;34m(\u001b[0m\u001b[0mself\u001b[0m\u001b[0;34m)\u001b[0m\u001b[0;34m:\u001b[0m\u001b[0;34m\u001b[0m\u001b[0;34m\u001b[0m\u001b[0m\n",
      "\u001b[0;32m~/opt/anaconda3/lib/python3.7/site-packages/pandas/io/parsers.py\u001b[0m in \u001b[0;36m_make_engine\u001b[0;34m(self, engine)\u001b[0m\n\u001b[1;32m   1112\u001b[0m     \u001b[0;32mdef\u001b[0m \u001b[0m_make_engine\u001b[0m\u001b[0;34m(\u001b[0m\u001b[0mself\u001b[0m\u001b[0;34m,\u001b[0m \u001b[0mengine\u001b[0m\u001b[0;34m=\u001b[0m\u001b[0;34m\"c\"\u001b[0m\u001b[0;34m)\u001b[0m\u001b[0;34m:\u001b[0m\u001b[0;34m\u001b[0m\u001b[0;34m\u001b[0m\u001b[0m\n\u001b[1;32m   1113\u001b[0m         \u001b[0;32mif\u001b[0m \u001b[0mengine\u001b[0m \u001b[0;34m==\u001b[0m \u001b[0;34m\"c\"\u001b[0m\u001b[0;34m:\u001b[0m\u001b[0;34m\u001b[0m\u001b[0;34m\u001b[0m\u001b[0m\n\u001b[0;32m-> 1114\u001b[0;31m             \u001b[0mself\u001b[0m\u001b[0;34m.\u001b[0m\u001b[0m_engine\u001b[0m \u001b[0;34m=\u001b[0m \u001b[0mCParserWrapper\u001b[0m\u001b[0;34m(\u001b[0m\u001b[0mself\u001b[0m\u001b[0;34m.\u001b[0m\u001b[0mf\u001b[0m\u001b[0;34m,\u001b[0m \u001b[0;34m**\u001b[0m\u001b[0mself\u001b[0m\u001b[0;34m.\u001b[0m\u001b[0moptions\u001b[0m\u001b[0;34m)\u001b[0m\u001b[0;34m\u001b[0m\u001b[0;34m\u001b[0m\u001b[0m\n\u001b[0m\u001b[1;32m   1115\u001b[0m         \u001b[0;32melse\u001b[0m\u001b[0;34m:\u001b[0m\u001b[0;34m\u001b[0m\u001b[0;34m\u001b[0m\u001b[0m\n\u001b[1;32m   1116\u001b[0m             \u001b[0;32mif\u001b[0m \u001b[0mengine\u001b[0m \u001b[0;34m==\u001b[0m \u001b[0;34m\"python\"\u001b[0m\u001b[0;34m:\u001b[0m\u001b[0;34m\u001b[0m\u001b[0;34m\u001b[0m\u001b[0m\n",
      "\u001b[0;32m~/opt/anaconda3/lib/python3.7/site-packages/pandas/io/parsers.py\u001b[0m in \u001b[0;36m__init__\u001b[0;34m(self, src, **kwds)\u001b[0m\n\u001b[1;32m   1889\u001b[0m         \u001b[0mkwds\u001b[0m\u001b[0;34m[\u001b[0m\u001b[0;34m\"usecols\"\u001b[0m\u001b[0;34m]\u001b[0m \u001b[0;34m=\u001b[0m \u001b[0mself\u001b[0m\u001b[0;34m.\u001b[0m\u001b[0musecols\u001b[0m\u001b[0;34m\u001b[0m\u001b[0;34m\u001b[0m\u001b[0m\n\u001b[1;32m   1890\u001b[0m \u001b[0;34m\u001b[0m\u001b[0m\n\u001b[0;32m-> 1891\u001b[0;31m         \u001b[0mself\u001b[0m\u001b[0;34m.\u001b[0m\u001b[0m_reader\u001b[0m \u001b[0;34m=\u001b[0m \u001b[0mparsers\u001b[0m\u001b[0;34m.\u001b[0m\u001b[0mTextReader\u001b[0m\u001b[0;34m(\u001b[0m\u001b[0msrc\u001b[0m\u001b[0;34m,\u001b[0m \u001b[0;34m**\u001b[0m\u001b[0mkwds\u001b[0m\u001b[0;34m)\u001b[0m\u001b[0;34m\u001b[0m\u001b[0;34m\u001b[0m\u001b[0m\n\u001b[0m\u001b[1;32m   1892\u001b[0m         \u001b[0mself\u001b[0m\u001b[0;34m.\u001b[0m\u001b[0munnamed_cols\u001b[0m \u001b[0;34m=\u001b[0m \u001b[0mself\u001b[0m\u001b[0;34m.\u001b[0m\u001b[0m_reader\u001b[0m\u001b[0;34m.\u001b[0m\u001b[0munnamed_cols\u001b[0m\u001b[0;34m\u001b[0m\u001b[0;34m\u001b[0m\u001b[0m\n\u001b[1;32m   1893\u001b[0m \u001b[0;34m\u001b[0m\u001b[0m\n",
      "\u001b[0;32mpandas/_libs/parsers.pyx\u001b[0m in \u001b[0;36mpandas._libs.parsers.TextReader.__cinit__\u001b[0;34m()\u001b[0m\n",
      "\u001b[0;32mpandas/_libs/parsers.pyx\u001b[0m in \u001b[0;36mpandas._libs.parsers.TextReader._setup_parser_source\u001b[0;34m()\u001b[0m\n",
      "\u001b[0;31mFileNotFoundError\u001b[0m: [Errno 2] File Tass_conjointdata.csv does not exist: 'Tass_conjointdata.csv'"
     ]
    }
   ],
   "source": [
    "df = pd.read_csv(\"Tass_conjointdata.csv\", delimiter=',')"
   ]
  },
  {
   "cell_type": "code",
   "execution_count": 16,
   "metadata": {},
   "outputs": [
    {
     "ename": "NameError",
     "evalue": "name 'df' is not defined",
     "output_type": "error",
     "traceback": [
      "\u001b[0;31m---------------------------------------------------------------------------\u001b[0m",
      "\u001b[0;31mNameError\u001b[0m                                 Traceback (most recent call last)",
      "\u001b[0;32m<ipython-input-16-c42a15b2c7cf>\u001b[0m in \u001b[0;36m<module>\u001b[0;34m\u001b[0m\n\u001b[0;32m----> 1\u001b[0;31m \u001b[0mdf\u001b[0m\u001b[0;34m.\u001b[0m\u001b[0mhead\u001b[0m\u001b[0;34m(\u001b[0m\u001b[0;34m)\u001b[0m\u001b[0;34m\u001b[0m\u001b[0;34m\u001b[0m\u001b[0m\n\u001b[0m",
      "\u001b[0;31mNameError\u001b[0m: name 'df' is not defined"
     ]
    }
   ],
   "source": [
    "df.head()"
   ]
  },
  {
   "cell_type": "code",
   "execution_count": 5,
   "metadata": {},
   "outputs": [
    {
     "ename": "NameError",
     "evalue": "name 'df' is not defined",
     "output_type": "error",
     "traceback": [
      "\u001b[0;31m---------------------------------------------------------------------------\u001b[0m",
      "\u001b[0;31mNameError\u001b[0m                                 Traceback (most recent call last)",
      "\u001b[0;32m<ipython-input-5-e029e000de11>\u001b[0m in \u001b[0;36m<module>\u001b[0;34m\u001b[0m\n\u001b[1;32m      1\u001b[0m \u001b[0;31m# checking for empty data\u001b[0m\u001b[0;34m\u001b[0m\u001b[0;34m\u001b[0m\u001b[0;34m\u001b[0m\u001b[0m\n\u001b[0;32m----> 2\u001b[0;31m \u001b[0mdf\u001b[0m\u001b[0;34m.\u001b[0m\u001b[0misnull\u001b[0m\u001b[0;34m(\u001b[0m\u001b[0;34m)\u001b[0m\u001b[0;34m.\u001b[0m\u001b[0msum\u001b[0m\u001b[0;34m(\u001b[0m\u001b[0;34m)\u001b[0m\u001b[0;34m\u001b[0m\u001b[0;34m\u001b[0m\u001b[0m\n\u001b[0m",
      "\u001b[0;31mNameError\u001b[0m: name 'df' is not defined"
     ]
    }
   ],
   "source": [
    "# checking for empty data\n",
    "df.isnull().sum()\n"
   ]
  },
  {
   "cell_type": "code",
   "execution_count": 6,
   "metadata": {},
   "outputs": [],
   "source": [
    "# remove empty data, only if missing. No missing data from our dataset.\n",
    "# clean_df = df[~df.selected.isnull()]"
   ]
  },
  {
   "cell_type": "code",
   "execution_count": 7,
   "metadata": {},
   "outputs": [
    {
     "ename": "NameError",
     "evalue": "name 'df' is not defined",
     "output_type": "error",
     "traceback": [
      "\u001b[0;31m---------------------------------------------------------------------------\u001b[0m",
      "\u001b[0;31mNameError\u001b[0m                                 Traceback (most recent call last)",
      "\u001b[0;32m<ipython-input-7-59d115eed966>\u001b[0m in \u001b[0;36m<module>\u001b[0;34m\u001b[0m\n\u001b[0;32m----> 1\u001b[0;31m \u001b[0my\u001b[0m \u001b[0;34m=\u001b[0m \u001b[0mdf\u001b[0m\u001b[0;34m[\u001b[0m\u001b[0;34m'selected'\u001b[0m\u001b[0;34m]\u001b[0m\u001b[0;34m\u001b[0m\u001b[0;34m\u001b[0m\u001b[0m\n\u001b[0m\u001b[1;32m      2\u001b[0m \u001b[0mx\u001b[0m \u001b[0;34m=\u001b[0m \u001b[0mdf\u001b[0m\u001b[0;34m[\u001b[0m\u001b[0;34m[\u001b[0m\u001b[0mx\u001b[0m \u001b[0;32mfor\u001b[0m \u001b[0mx\u001b[0m \u001b[0;32min\u001b[0m \u001b[0mdf\u001b[0m\u001b[0;34m.\u001b[0m\u001b[0mcolumns\u001b[0m \u001b[0;32mif\u001b[0m \u001b[0mx\u001b[0m \u001b[0;34m!=\u001b[0m \u001b[0;34m'selected'\u001b[0m \u001b[0;32mand\u001b[0m \u001b[0mx\u001b[0m \u001b[0;34m!=\u001b[0m \u001b[0;34m'subj'\u001b[0m\u001b[0;34m]\u001b[0m\u001b[0;34m]\u001b[0m\u001b[0;34m\u001b[0m\u001b[0;34m\u001b[0m\u001b[0m\n",
      "\u001b[0;31mNameError\u001b[0m: name 'df' is not defined"
     ]
    }
   ],
   "source": [
    "\n",
    "y = df['selected']\n",
    "x = df[[x for x in df.columns if x != 'selected' and x != 'subj']]"
   ]
  },
  {
   "cell_type": "code",
   "execution_count": 95,
   "metadata": {
    "scrolled": true
   },
   "outputs": [
    {
     "data": {
      "text/html": [
       "<div>\n",
       "<style scoped>\n",
       "    .dataframe tbody tr th:only-of-type {\n",
       "        vertical-align: middle;\n",
       "    }\n",
       "\n",
       "    .dataframe tbody tr th {\n",
       "        vertical-align: top;\n",
       "    }\n",
       "\n",
       "    .dataframe thead th {\n",
       "        text-align: right;\n",
       "    }\n",
       "</style>\n",
       "<table border=\"1\" class=\"dataframe\">\n",
       "  <thead>\n",
       "    <tr style=\"text-align: right;\">\n",
       "      <th></th>\n",
       "      <th>source_1</th>\n",
       "      <th>source_2</th>\n",
       "      <th>source_3</th>\n",
       "      <th>source_4</th>\n",
       "      <th>source_5</th>\n",
       "      <th>source_6</th>\n",
       "      <th>message_1</th>\n",
       "      <th>message_2</th>\n",
       "      <th>message_3</th>\n",
       "      <th>message_4</th>\n",
       "      <th>message_5</th>\n",
       "      <th>message_6</th>\n",
       "      <th>image_1</th>\n",
       "      <th>image_2</th>\n",
       "    </tr>\n",
       "  </thead>\n",
       "  <tbody>\n",
       "    <tr>\n",
       "      <th>0</th>\n",
       "      <td>0</td>\n",
       "      <td>1</td>\n",
       "      <td>0</td>\n",
       "      <td>0</td>\n",
       "      <td>0</td>\n",
       "      <td>0</td>\n",
       "      <td>1</td>\n",
       "      <td>0</td>\n",
       "      <td>0</td>\n",
       "      <td>0</td>\n",
       "      <td>0</td>\n",
       "      <td>0</td>\n",
       "      <td>0</td>\n",
       "      <td>1</td>\n",
       "    </tr>\n",
       "    <tr>\n",
       "      <th>1</th>\n",
       "      <td>0</td>\n",
       "      <td>1</td>\n",
       "      <td>0</td>\n",
       "      <td>0</td>\n",
       "      <td>0</td>\n",
       "      <td>0</td>\n",
       "      <td>0</td>\n",
       "      <td>0</td>\n",
       "      <td>0</td>\n",
       "      <td>1</td>\n",
       "      <td>0</td>\n",
       "      <td>0</td>\n",
       "      <td>1</td>\n",
       "      <td>0</td>\n",
       "    </tr>\n",
       "    <tr>\n",
       "      <th>2</th>\n",
       "      <td>1</td>\n",
       "      <td>0</td>\n",
       "      <td>0</td>\n",
       "      <td>0</td>\n",
       "      <td>0</td>\n",
       "      <td>0</td>\n",
       "      <td>0</td>\n",
       "      <td>0</td>\n",
       "      <td>1</td>\n",
       "      <td>0</td>\n",
       "      <td>0</td>\n",
       "      <td>0</td>\n",
       "      <td>0</td>\n",
       "      <td>1</td>\n",
       "    </tr>\n",
       "    <tr>\n",
       "      <th>3</th>\n",
       "      <td>0</td>\n",
       "      <td>0</td>\n",
       "      <td>0</td>\n",
       "      <td>1</td>\n",
       "      <td>0</td>\n",
       "      <td>0</td>\n",
       "      <td>1</td>\n",
       "      <td>0</td>\n",
       "      <td>0</td>\n",
       "      <td>0</td>\n",
       "      <td>0</td>\n",
       "      <td>0</td>\n",
       "      <td>0</td>\n",
       "      <td>1</td>\n",
       "    </tr>\n",
       "    <tr>\n",
       "      <th>4</th>\n",
       "      <td>0</td>\n",
       "      <td>0</td>\n",
       "      <td>0</td>\n",
       "      <td>0</td>\n",
       "      <td>1</td>\n",
       "      <td>0</td>\n",
       "      <td>0</td>\n",
       "      <td>1</td>\n",
       "      <td>0</td>\n",
       "      <td>0</td>\n",
       "      <td>0</td>\n",
       "      <td>0</td>\n",
       "      <td>1</td>\n",
       "      <td>0</td>\n",
       "    </tr>\n",
       "  </tbody>\n",
       "</table>\n",
       "</div>"
      ],
      "text/plain": [
       "   source_1  source_2  source_3  source_4  source_5  source_6  message_1  \\\n",
       "0         0         1         0         0         0         0          1   \n",
       "1         0         1         0         0         0         0          0   \n",
       "2         1         0         0         0         0         0          0   \n",
       "3         0         0         0         1         0         0          1   \n",
       "4         0         0         0         0         1         0          0   \n",
       "\n",
       "   message_2  message_3  message_4  message_5  message_6  image_1  image_2  \n",
       "0          0          0          0          0          0        0        1  \n",
       "1          0          0          1          0          0        1        0  \n",
       "2          0          1          0          0          0        0        1  \n",
       "3          0          0          0          0          0        0        1  \n",
       "4          1          0          0          0          0        1        0  "
      ]
     },
     "execution_count": 95,
     "metadata": {},
     "output_type": "execute_result"
    }
   ],
   "source": [
    "xdum = pd.get_dummies(x, columns=[c for c in x.columns if c != 'selected'])\n",
    "xdum.head()"
   ]
  },
  {
   "cell_type": "code",
   "execution_count": 97,
   "metadata": {},
   "outputs": [
    {
     "ename": "IndentationError",
     "evalue": "unexpected indent (<ipython-input-97-b37dc0563e6d>, line 2)",
     "output_type": "error",
     "traceback": [
      "\u001b[0;36m  File \u001b[0;32m\"<ipython-input-97-b37dc0563e6d>\"\u001b[0;36m, line \u001b[0;32m2\u001b[0m\n\u001b[0;31m    \"source_1\": \"Trump\",\u001b[0m\n\u001b[0m    ^\u001b[0m\n\u001b[0;31mIndentationError\u001b[0m\u001b[0;31m:\u001b[0m unexpected indent\n"
     ]
    }
   ],
   "source": [
    "#fullNames = {\n",
    "    \"source_1\": \"Trump\",\n",
    "    \"source_2\": \"Biden\",\n",
    "    \"source_3\": \"PowerTheFuture\", \n",
    "    \"source_4\":\"Patagonia\", \n",
    "    \"source_5\":\"ExxonMobil\", \n",
    "    \"source_6\":\"SierraClub\", \n",
    "    \"message_1\":\"supportpipelines\", \n",
    "    \"message_2\":\"opposepipelines\", \n",
    "    \"message_3\":\"oil&gas\", \n",
    "    \"message_4\":\"CutMethane\", \n",
    "    \"message_5\":\"workforce\", \n",
    "    \"message_6\":\"nature\",\n",
    "    \"image_1\":\"landscape\", \n",
    "    \"image_2\":\"pipelineLandscape\",\n",
    "}\n",
    "\n",
    "#xdum.rename(columns=fullNames, inplace=True)\n",
    "#xdum.head()"
   ]
  },
  {
   "cell_type": "code",
   "execution_count": 98,
   "metadata": {},
   "outputs": [],
   "source": [
    "import statsmodels.api as sm\n",
    "import seaborn as sns\n",
    "import matplotlib.pyplot as plt\n",
    "plt.style.use('bmh')"
   ]
  },
  {
   "cell_type": "code",
   "execution_count": 99,
   "metadata": {},
   "outputs": [
    {
     "data": {
      "text/html": [
       "<table class=\"simpletable\">\n",
       "<caption>OLS Regression Results</caption>\n",
       "<tr>\n",
       "  <th>Dep. Variable:</th>        <td>selected</td>     <th>  R-squared:         </th> <td>   0.083</td> \n",
       "</tr>\n",
       "<tr>\n",
       "  <th>Model:</th>                   <td>OLS</td>       <th>  Adj. R-squared:    </th> <td>   0.081</td> \n",
       "</tr>\n",
       "<tr>\n",
       "  <th>Method:</th>             <td>Least Squares</td>  <th>  F-statistic:       </th> <td>   50.39</td> \n",
       "</tr>\n",
       "<tr>\n",
       "  <th>Date:</th>             <td>Tue, 12 May 2020</td> <th>  Prob (F-statistic):</th> <td>7.48e-107</td>\n",
       "</tr>\n",
       "<tr>\n",
       "  <th>Time:</th>                 <td>16:03:36</td>     <th>  Log-Likelihood:    </th> <td> -4199.2</td> \n",
       "</tr>\n",
       "<tr>\n",
       "  <th>No. Observations:</th>      <td>  6152</td>      <th>  AIC:               </th> <td>   8422.</td> \n",
       "</tr>\n",
       "<tr>\n",
       "  <th>Df Residuals:</th>          <td>  6140</td>      <th>  BIC:               </th> <td>   8503.</td> \n",
       "</tr>\n",
       "<tr>\n",
       "  <th>Df Model:</th>              <td>    11</td>      <th>                     </th>     <td> </td>    \n",
       "</tr>\n",
       "<tr>\n",
       "  <th>Covariance Type:</th>      <td>nonrobust</td>    <th>                     </th>     <td> </td>    \n",
       "</tr>\n",
       "</table>\n",
       "<table class=\"simpletable\">\n",
       "<tr>\n",
       "      <td></td>         <th>coef</th>     <th>std err</th>      <th>t</th>      <th>P>|t|</th>  <th>[0.025</th>    <th>0.975]</th>  \n",
       "</tr>\n",
       "<tr>\n",
       "  <th>source_1</th>  <td>    0.1940</td> <td>    0.014</td> <td>   13.820</td> <td> 0.000</td> <td>    0.166</td> <td>    0.222</td>\n",
       "</tr>\n",
       "<tr>\n",
       "  <th>source_2</th>  <td>    0.1741</td> <td>    0.014</td> <td>   12.711</td> <td> 0.000</td> <td>    0.147</td> <td>    0.201</td>\n",
       "</tr>\n",
       "<tr>\n",
       "  <th>source_3</th>  <td>    0.0764</td> <td>    0.014</td> <td>    5.653</td> <td> 0.000</td> <td>    0.050</td> <td>    0.103</td>\n",
       "</tr>\n",
       "<tr>\n",
       "  <th>source_4</th>  <td>    0.0393</td> <td>    0.014</td> <td>    2.838</td> <td> 0.005</td> <td>    0.012</td> <td>    0.066</td>\n",
       "</tr>\n",
       "<tr>\n",
       "  <th>source_5</th>  <td>    0.0591</td> <td>    0.013</td> <td>    4.402</td> <td> 0.000</td> <td>    0.033</td> <td>    0.085</td>\n",
       "</tr>\n",
       "<tr>\n",
       "  <th>source_6</th>  <td>    0.0615</td> <td>    0.014</td> <td>    4.430</td> <td> 0.000</td> <td>    0.034</td> <td>    0.089</td>\n",
       "</tr>\n",
       "<tr>\n",
       "  <th>message_1</th> <td>    0.2492</td> <td>    0.014</td> <td>   18.192</td> <td> 0.000</td> <td>    0.222</td> <td>    0.276</td>\n",
       "</tr>\n",
       "<tr>\n",
       "  <th>message_2</th> <td>    0.2603</td> <td>    0.014</td> <td>   18.524</td> <td> 0.000</td> <td>    0.233</td> <td>    0.288</td>\n",
       "</tr>\n",
       "<tr>\n",
       "  <th>message_3</th> <td>    0.0860</td> <td>    0.014</td> <td>    6.227</td> <td> 0.000</td> <td>    0.059</td> <td>    0.113</td>\n",
       "</tr>\n",
       "<tr>\n",
       "  <th>message_4</th> <td>    0.1257</td> <td>    0.014</td> <td>    9.152</td> <td> 0.000</td> <td>    0.099</td> <td>    0.153</td>\n",
       "</tr>\n",
       "<tr>\n",
       "  <th>message_5</th> <td>   -0.0405</td> <td>    0.014</td> <td>   -2.950</td> <td> 0.003</td> <td>   -0.067</td> <td>   -0.014</td>\n",
       "</tr>\n",
       "<tr>\n",
       "  <th>message_6</th> <td>   -0.0763</td> <td>    0.013</td> <td>   -5.707</td> <td> 0.000</td> <td>   -0.102</td> <td>   -0.050</td>\n",
       "</tr>\n",
       "<tr>\n",
       "  <th>image_1</th>   <td>    0.2795</td> <td>    0.007</td> <td>   38.978</td> <td> 0.000</td> <td>    0.265</td> <td>    0.294</td>\n",
       "</tr>\n",
       "<tr>\n",
       "  <th>image_2</th>   <td>    0.3248</td> <td>    0.007</td> <td>   45.759</td> <td> 0.000</td> <td>    0.311</td> <td>    0.339</td>\n",
       "</tr>\n",
       "</table>\n",
       "<table class=\"simpletable\">\n",
       "<tr>\n",
       "  <th>Omnibus:</th>       <td>28240.178</td> <th>  Durbin-Watson:     </th> <td>   1.827</td> \n",
       "</tr>\n",
       "<tr>\n",
       "  <th>Prob(Omnibus):</th>  <td> 0.000</td>   <th>  Jarque-Bera (JB):  </th> <td> 706.818</td> \n",
       "</tr>\n",
       "<tr>\n",
       "  <th>Skew:</th>           <td>-0.003</td>   <th>  Prob(JB):          </th> <td>3.28e-154</td>\n",
       "</tr>\n",
       "<tr>\n",
       "  <th>Kurtosis:</th>       <td> 1.339</td>   <th>  Cond. No.          </th> <td>5.33e+15</td> \n",
       "</tr>\n",
       "</table><br/><br/>Warnings:<br/>[1] Standard Errors assume that the covariance matrix of the errors is correctly specified.<br/>[2] The smallest eigenvalue is 1.8e-28. This might indicate that there are<br/>strong multicollinearity problems or that the design matrix is singular."
      ],
      "text/plain": [
       "<class 'statsmodels.iolib.summary.Summary'>\n",
       "\"\"\"\n",
       "                            OLS Regression Results                            \n",
       "==============================================================================\n",
       "Dep. Variable:               selected   R-squared:                       0.083\n",
       "Model:                            OLS   Adj. R-squared:                  0.081\n",
       "Method:                 Least Squares   F-statistic:                     50.39\n",
       "Date:                Tue, 12 May 2020   Prob (F-statistic):          7.48e-107\n",
       "Time:                        16:03:36   Log-Likelihood:                -4199.2\n",
       "No. Observations:                6152   AIC:                             8422.\n",
       "Df Residuals:                    6140   BIC:                             8503.\n",
       "Df Model:                          11                                         \n",
       "Covariance Type:            nonrobust                                         \n",
       "==============================================================================\n",
       "                 coef    std err          t      P>|t|      [0.025      0.975]\n",
       "------------------------------------------------------------------------------\n",
       "source_1       0.1940      0.014     13.820      0.000       0.166       0.222\n",
       "source_2       0.1741      0.014     12.711      0.000       0.147       0.201\n",
       "source_3       0.0764      0.014      5.653      0.000       0.050       0.103\n",
       "source_4       0.0393      0.014      2.838      0.005       0.012       0.066\n",
       "source_5       0.0591      0.013      4.402      0.000       0.033       0.085\n",
       "source_6       0.0615      0.014      4.430      0.000       0.034       0.089\n",
       "message_1      0.2492      0.014     18.192      0.000       0.222       0.276\n",
       "message_2      0.2603      0.014     18.524      0.000       0.233       0.288\n",
       "message_3      0.0860      0.014      6.227      0.000       0.059       0.113\n",
       "message_4      0.1257      0.014      9.152      0.000       0.099       0.153\n",
       "message_5     -0.0405      0.014     -2.950      0.003      -0.067      -0.014\n",
       "message_6     -0.0763      0.013     -5.707      0.000      -0.102      -0.050\n",
       "image_1        0.2795      0.007     38.978      0.000       0.265       0.294\n",
       "image_2        0.3248      0.007     45.759      0.000       0.311       0.339\n",
       "==============================================================================\n",
       "Omnibus:                    28240.178   Durbin-Watson:                   1.827\n",
       "Prob(Omnibus):                  0.000   Jarque-Bera (JB):              706.818\n",
       "Skew:                          -0.003   Prob(JB):                    3.28e-154\n",
       "Kurtosis:                       1.339   Cond. No.                     5.33e+15\n",
       "==============================================================================\n",
       "\n",
       "Warnings:\n",
       "[1] Standard Errors assume that the covariance matrix of the errors is correctly specified.\n",
       "[2] The smallest eigenvalue is 1.8e-28. This might indicate that there are\n",
       "strong multicollinearity problems or that the design matrix is singular.\n",
       "\"\"\""
      ]
     },
     "execution_count": 99,
     "metadata": {},
     "output_type": "execute_result"
    }
   ],
   "source": [
    "res = sm.OLS(y, xdum, family=sm.families.Binomial()).fit()\n",
    "res.summary()"
   ]
  },
  {
   "cell_type": "code",
   "execution_count": 100,
   "metadata": {},
   "outputs": [],
   "source": [
    "df_res = pd.DataFrame({\n",
    "    'param_name': res.params.keys()\n",
    "    , 'param_w': res.params.values\n",
    "    , 'pval': res.pvalues\n",
    "})\n",
    "# adding field for absolute of parameters\n",
    "df_res['abs_param_w'] = np.abs(df_res['param_w'])\n",
    "# marking field is significant under 95% confidence interval\n",
    "df_res['is_sig_95'] = (df_res['pval'] < 0.05)\n",
    "# constructing color naming for each param\n",
    "df_res['c'] = ['blue' if x else 'red' for x in df_res['is_sig_95']]\n",
    "\n",
    "# make it sorted by abs of parameter value\n",
    "df_res = df_res.sort_values(by='abs_param_w', ascending=True)"
   ]
  },
  {
   "cell_type": "code",
   "execution_count": 101,
   "metadata": {},
   "outputs": [
    {
     "data": {
      "image/png": "[encoded data removed]",
      "text/plain": [
       "<Figure size 1008x576 with 1 Axes>"
      ]
     },
     "metadata": {
      "needs_background": "light"
     },
     "output_type": "display_data"
    },
    {
     "name": "stdout",
     "output_type": "stream",
     "text": [
      "source_4     0.039280\n",
      "message_5   -0.040539\n",
      "source_5     0.059052\n",
      "source_6     0.061542\n",
      "message_6   -0.076269\n",
      "source_3     0.076398\n",
      "message_3    0.085990\n",
      "message_4    0.125658\n",
      "source_2     0.174130\n",
      "source_1     0.193986\n",
      "message_1    0.249209\n",
      "message_2    0.260338\n",
      "image_1      0.279550\n",
      "image_2      0.324838\n",
      "Name: param_w, dtype: float64\n"
     ]
    }
   ],
   "source": [
    "f, ax = plt.subplots(figsize=(14, 8))\n",
    "plt.title('Part Worth')\n",
    "pwu = df_res['param_w']\n",
    "xbar = np.arange(len(pwu))\n",
    "plt.barh(xbar, pwu, color=df_res['c'])\n",
    "plt.yticks(xbar, labels=df_res['param_name'])\n",
    "plt.show()\n",
    "print(pwu)"
   ]
  },
  {
   "cell_type": "code",
   "execution_count": 102,
   "metadata": {},
   "outputs": [],
   "source": [
    "# need to assemble per attribute for every level of that attribute in dicionary\n",
    "range_per_feature = dict()\n",
    "for key, coeff in res.params.items():\n",
    "    sk =  key.split('_')\n",
    "    feature = sk[0]\n",
    "    if len(sk) == 1:\n",
    "        feature = key\n",
    "    if feature not in range_per_feature:\n",
    "        range_per_feature[feature] = list()\n",
    "        \n",
    "    range_per_feature[feature].append(coeff)"
   ]
  },
  {
   "cell_type": "code",
   "execution_count": 103,
   "metadata": {},
   "outputs": [],
   "source": [
    "# importance per feature is range of coef in a feature\n",
    "# while range is simply max(x) - min(x)\n",
    "importance_per_feature = {\n",
    "    k: max(v) - min(v) for k, v in range_per_feature.items()\n",
    "}\n",
    "\n",
    "# compute relative importance per feature\n",
    "# or normalized feature importance by dividing \n",
    "# sum of importance for all features\n",
    "total_feature_importance = sum(importance_per_feature.values())\n",
    "relative_importance_per_feature = {\n",
    "    k: 100 * round(v/total_feature_importance, 3) for k, v in importance_per_feature.items()\n",
    "}\n"
   ]
  },
  {
   "cell_type": "code",
   "execution_count": 104,
   "metadata": {
    "collapsed": true,
    "jupyter": {
     "outputs_hidden": true
    }
   },
   "outputs": [
    {
     "data": {
      "image/png": "[encoded data removed]",
      "text/plain": [
       "<Figure size 864x576 with 1 Axes>"
      ]
     },
     "metadata": {
      "needs_background": "light"
     },
     "output_type": "display_data"
    }
   ],
   "source": [
    "alt_data = pd.DataFrame(\n",
    "    list(importance_per_feature.items()), \n",
    "    columns=['attr', 'importance']\n",
    ").sort_values(by='importance', ascending=False)\n",
    "\n",
    "\n",
    "f, ax = plt.subplots(figsize=(12, 8))\n",
    "xbar = np.arange(len(alt_data['attr']))\n",
    "plt.title('Importance')\n",
    "plt.barh(xbar, alt_data['importance'])\n",
    "for i, v in enumerate(alt_data['importance']):\n",
    "    ax.text(v , i + .25, '{:.2f}'.format(v))\n",
    "plt.ylabel('attributes')\n",
    "plt.xlabel('% importance')\n",
    "plt.yticks(xbar, alt_data['attr'])\n",
    "plt.show()"
   ]
  },
  {
   "cell_type": "code",
   "execution_count": null,
   "metadata": {},
   "outputs": [],
   "source": []
  },
  {
   "cell_type": "code",
   "execution_count": null,
   "metadata": {},
   "outputs": [],
   "source": []
  },
  {
   "cell_type": "code",
   "execution_count": 87,
   "metadata": {},
   "outputs": [
    {
     "data": {
      "image/png": "[encoded data removed]",
      "text/plain": [
       "<Figure size 864x576 with 1 Axes>"
      ]
     },
     "metadata": {
      "needs_background": "light"
     },
     "output_type": "display_data"
    }
   ],
   "source": [
    "alt_data = pd.DataFrame(\n",
    "    list(relative_importance_per_feature.items()), \n",
    "    columns=['attr', 'relative_importance (pct)']\n",
    ").sort_values(by='relative_importance (pct)', ascending=False)\n",
    "\n",
    "\n",
    "f, ax = plt.subplots(figsize=(12, 8))\n",
    "xbar = np.arange(len(alt_data['attr']))\n",
    "plt.title('Relative importance / Normalized importance')\n",
    "plt.barh(xbar, alt_data['relative_importance (pct)'])\n",
    "for i, v in enumerate(alt_data['relative_importance (pct)']):\n",
    "    ax.text(v , i + .25, '{:.2f}%'.format(v))\n",
    "plt.ylabel('attributes')\n",
    "plt.xlabel('% relative importance')\n",
    "plt.yticks(xbar, alt_data['attr'])\n",
    "plt.show()\n"
   ]
  },
  {
   "cell_type": "code",
   "execution_count": null,
   "metadata": {},
   "outputs": [],
   "source": []
  }
 ],
 "metadata": {
  "kernelspec": {
   "display_name": "Python 3",
   "language": "python",
   "name": "python3"
  },
  "language_info": {
   "codemirror_mode": {
    "name": "ipython",
    "version": 3
   },
   "file_extension": ".py",
   "mimetype": "text/x-python",
   "name": "python",
   "nbconvert_exporter": "python",
   "pygments_lexer": "ipython3",
   "version": "3.8.2"
  }
 },
 "nbformat": 4,
 "nbformat_minor": 4
}
